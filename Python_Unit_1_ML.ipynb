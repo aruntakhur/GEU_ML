{
  "nbformat": 4,
  "nbformat_minor": 0,
  "metadata": {
    "colab": {
      "provenance": [],
      "authorship_tag": "ABX9TyOnhPM7D8n1hN2IyjCJgVCA",
      "include_colab_link": true
    },
    "kernelspec": {
      "name": "python3",
      "display_name": "Python 3"
    },
    "language_info": {
      "name": "python"
    }
  },
  "cells": [
    {
      "cell_type": "markdown",
      "metadata": {
        "id": "view-in-github",
        "colab_type": "text"
      },
      "source": [
        "<a href=\"https://colab.research.google.com/github/aruntakhur/GEU_ML/blob/main/Python_Unit_1_ML.ipynb\" target=\"_parent\"><img src=\"https://colab.research.google.com/assets/colab-badge.svg\" alt=\"Open In Colab\"/></a>"
      ]
    },
    {
      "cell_type": "markdown",
      "source": [
        "# Basic Arithmetic Operations\n",
        "Basic arithmetic operations are built into the Python langauge. Here are some examples. In particular, note that exponentiation is done with the ** operator."
      ],
      "metadata": {
        "id": "bQlYmcal6dJf"
      }
    },
    {
      "cell_type": "code",
      "execution_count": 8,
      "metadata": {
        "colab": {
          "base_uri": "https://localhost:8080/"
        },
        "id": "FqLv0RsL6VmX",
        "outputId": "cc643f3c-a31b-40bb-e798-7f5d9431ae06"
      },
      "outputs": [
        {
          "output_type": "stream",
          "name": "stdout",
          "text": [
            "14\n",
            "24\n",
            "144\n",
            "6.0\n",
            "5.5\n",
            "5\n"
          ]
        }
      ],
      "source": [
        "a = 12\n",
        "b = 2\n",
        "c = 11\n",
        "\n",
        "print(a + b)  # addition\n",
        "print(a * b)  # multiplication\n",
        "print(a**b)   # exponetiation\n",
        "print(a/b)    # division\n",
        "print(c/b)    # division\n",
        "print(c//b)   # integer division"
      ]
    },
    {
      "cell_type": "markdown",
      "source": [
        "# Python Libraries\n",
        "The Python language has only very basic operations. Most math functions are in various math libraries. The numpy library is convenient library. This next cell shows how to import numpy with the prefix np, then use it to call a common mathematical functions."
      ],
      "metadata": {
        "id": "nDBdpBJK7Srr"
      }
    },
    {
      "cell_type": "code",
      "source": [
        "import numpy as np\n",
        "\n",
        "# mathematical constants\n",
        "print(np.pi)\n",
        "print(np.e)\n",
        "\n",
        "# trignometric functions\n",
        "angle = np.pi/4\n",
        "print(np.sin(angle))\n",
        "print(np.cos(angle))\n",
        "print(np.tan(angle))"
      ],
      "metadata": {
        "colab": {
          "base_uri": "https://localhost:8080/"
        },
        "id": "ftu6Qs777U05",
        "outputId": "201c169f-2aa7-4de8-81dc-7708352fa2eb"
      },
      "execution_count": 9,
      "outputs": [
        {
          "output_type": "stream",
          "name": "stdout",
          "text": [
            "3.141592653589793\n",
            "2.718281828459045\n",
            "0.7071067811865475\n",
            "0.7071067811865476\n",
            "0.9999999999999999\n"
          ]
        }
      ]
    },
    {
      "cell_type": "markdown",
      "source": [
        "# Working with Lists\n",
        "Lists are a versatile way of organizing your data in Python. Here are some examples, more can be found on this [Khan Academy video]( http://youtu.be/zEyEC34MY1A)."
      ],
      "metadata": {
        "id": "cIrzFdl67eZY"
      }
    },
    {
      "cell_type": "code",
      "source": [
        "xList = [1, 2, 3, 4]\n",
        "xList[0]"
      ],
      "metadata": {
        "colab": {
          "base_uri": "https://localhost:8080/"
        },
        "id": "NTd7HLCd7gD5",
        "outputId": "8ad291d1-ecc5-4f2c-be2d-4f7bb82e6ed8"
      },
      "execution_count": 11,
      "outputs": [
        {
          "output_type": "execute_result",
          "data": {
            "text/plain": [
              "1"
            ]
          },
          "metadata": {},
          "execution_count": 11
        }
      ]
    },
    {
      "cell_type": "markdown",
      "source": [
        "Concatentation is the operation of joining one list to another."
      ],
      "metadata": {
        "id": "5-AZWQjB72UQ"
      }
    },
    {
      "cell_type": "code",
      "source": [
        "# Concatenation\n",
        "x = [1, 2, 3, 4];\n",
        "y = [5, 6, 7, 8];\n",
        "\n",
        "x + y"
      ],
      "metadata": {
        "colab": {
          "base_uri": "https://localhost:8080/"
        },
        "id": "f084bwtR73ar",
        "outputId": "3ff8131b-b625-43c2-fa08-a89db6fab71e"
      },
      "execution_count": 6,
      "outputs": [
        {
          "output_type": "execute_result",
          "data": {
            "text/plain": [
              "[1, 2, 3, 4, 5, 6, 7, 8]"
            ]
          },
          "metadata": {},
          "execution_count": 6
        }
      ]
    },
    {
      "cell_type": "markdown",
      "source": [
        "Sum a list of numbers"
      ],
      "metadata": {
        "id": "73jYi-SF78Ex"
      }
    },
    {
      "cell_type": "code",
      "source": [
        "np.sum(x)"
      ],
      "metadata": {
        "colab": {
          "base_uri": "https://localhost:8080/"
        },
        "id": "0W-26h1H79A7",
        "outputId": "8f9345e5-eb0b-46bd-e738-41f955b355e2"
      },
      "execution_count": 7,
      "outputs": [
        {
          "output_type": "execute_result",
          "data": {
            "text/plain": [
              "10"
            ]
          },
          "metadata": {},
          "execution_count": 7
        }
      ]
    },
    {
      "cell_type": "markdown",
      "source": [
        "An element-by-element operation between two lists may be performed with"
      ],
      "metadata": {
        "id": "sxE9cQFF8GEL"
      }
    },
    {
      "cell_type": "code",
      "source": [
        "print(np.add(x,y))\n",
        "print(np.dot(x,y))"
      ],
      "metadata": {
        "colab": {
          "base_uri": "https://localhost:8080/"
        },
        "id": "hDhBGYz98G2J",
        "outputId": "5fe3d70c-0414-4365-f983-1dfe82934339"
      },
      "execution_count": 8,
      "outputs": [
        {
          "output_type": "stream",
          "name": "stdout",
          "text": [
            "[ 6  8 10 12]\n",
            "70\n"
          ]
        }
      ]
    },
    {
      "cell_type": "markdown",
      "source": [
        "A for loop is a means for iterating over the elements of a list. The colon marks the start of code that will be executed for each element of a list. Indenting has meaning in Python. In this case, everything in the indented block will be executed on each iteration of the for loop. This example also demonstrates string formatting."
      ],
      "metadata": {
        "id": "i10aT-qf8M1H"
      }
    },
    {
      "cell_type": "code",
      "source": [
        "for x in xList:\n",
        "    print(\"The value of x is \",x )\n",
        "    print(\"The value of sin(x) is \",np.sin(x))\n",
        "    print(\"\\n\")"
      ],
      "metadata": {
        "colab": {
          "base_uri": "https://localhost:8080/"
        },
        "id": "9VWY4Fzi8N5Q",
        "outputId": "834000fe-f328-4053-bc0d-c6f3141eb63d"
      },
      "execution_count": 11,
      "outputs": [
        {
          "output_type": "stream",
          "name": "stdout",
          "text": [
            "The value of x is  1\n",
            "The value of sin(x) is  0.8414709848078965\n",
            "\n",
            "\n",
            "The value of x is  2\n",
            "The value of sin(x) is  0.9092974268256817\n",
            "\n",
            "\n",
            "The value of x is  3\n",
            "The value of sin(x) is  0.1411200080598672\n",
            "\n",
            "\n",
            "The value of x is  4\n",
            "The value of sin(x) is  -0.7568024953079282\n",
            "\n",
            "\n"
          ]
        }
      ]
    },
    {
      "cell_type": "markdown",
      "source": [
        "# Working with Dictionaries\n",
        "Dictionaries are useful for storing and retrieving data as key-value pairs. For example, here is a short dictionary of student's age. The keys are students' names, and the values are the corresponding ages.\n",
        "\n"
      ],
      "metadata": {
        "id": "DV9g6iCc9CLA"
      }
    },
    {
      "cell_type": "code",
      "source": [
        "mw = {'Akash': 16, 'Supriya': 18, 'Shivam':23, 'Rahul': 20}\n",
        "print(mw)"
      ],
      "metadata": {
        "colab": {
          "base_uri": "https://localhost:8080/"
        },
        "id": "JtxN0KSh9Fvq",
        "outputId": "d7c0a47a-642b-4568-9e2d-898862d74b50"
      },
      "execution_count": 12,
      "outputs": [
        {
          "output_type": "stream",
          "name": "stdout",
          "text": [
            "{'Akash': 16, 'Supriya': 18, 'Shivam': 23, 'Rahul': 20}\n"
          ]
        }
      ]
    },
    {
      "cell_type": "markdown",
      "source": [
        "We can add a key-value to an existing dictionary."
      ],
      "metadata": {
        "id": "HvyIEnxG9uF0"
      }
    },
    {
      "cell_type": "code",
      "source": [
        "mw['Megha'] = 21\n",
        "print(mw)"
      ],
      "metadata": {
        "colab": {
          "base_uri": "https://localhost:8080/"
        },
        "id": "b-EBQjKG92s5",
        "outputId": "fc264fa9-0a86-48fe-ceb4-72b5e796e6ff"
      },
      "execution_count": 13,
      "outputs": [
        {
          "output_type": "stream",
          "name": "stdout",
          "text": [
            "{'Akash': 16, 'Supriya': 18, 'Shivam': 23, 'Rahul': 20, 'Megha': 21}\n"
          ]
        }
      ]
    },
    {
      "cell_type": "markdown",
      "source": [
        "We can retrieve a value from a dictionary."
      ],
      "metadata": {
        "id": "3GYVhFIN-GJZ"
      }
    },
    {
      "cell_type": "code",
      "source": [
        "mw['Shivam']"
      ],
      "metadata": {
        "colab": {
          "base_uri": "https://localhost:8080/"
        },
        "id": "fgfKiZfq-D5O",
        "outputId": "4276dd26-1104-419b-e3fc-57c581c8339e"
      },
      "execution_count": 14,
      "outputs": [
        {
          "output_type": "execute_result",
          "data": {
            "text/plain": [
              "23"
            ]
          },
          "metadata": {},
          "execution_count": 14
        }
      ]
    },
    {
      "cell_type": "markdown",
      "source": [
        "A for loop is a useful means of interating over all key-value pairs of a dictionary."
      ],
      "metadata": {
        "id": "QoLRo9tS-M5Z"
      }
    },
    {
      "cell_type": "code",
      "source": [
        "for names in mw.keys():\n",
        "    print(\"The age of the {} is {}\".format(names,mw[names]))"
      ],
      "metadata": {
        "colab": {
          "base_uri": "https://localhost:8080/"
        },
        "id": "wVGzzVUQ-N-_",
        "outputId": "5e3880ce-3e58-47b6-b41a-d53db33101a0"
      },
      "execution_count": 28,
      "outputs": [
        {
          "output_type": "stream",
          "name": "stdout",
          "text": [
            "The age of the Akash is 16\n",
            "The age of the Supriya is 18\n",
            "The age of the Shivam is 23\n",
            "The age of the Rahul is 20\n",
            "The age of the Megha is 21\n"
          ]
        }
      ]
    },
    {
      "cell_type": "markdown",
      "source": [
        "Dictionaries can be sorted by key or by value"
      ],
      "metadata": {
        "id": "BWl3l8lI_uB3"
      }
    },
    {
      "cell_type": "code",
      "source": [
        "for names in sorted(mw):\n",
        "  print(\"The age of the {} is {}\".format(names,mw[names]))"
      ],
      "metadata": {
        "colab": {
          "base_uri": "https://localhost:8080/"
        },
        "id": "d5Bza__N--rI",
        "outputId": "447a9fa0-87fe-4508-8dcc-df34dd0495f6"
      },
      "execution_count": 29,
      "outputs": [
        {
          "output_type": "stream",
          "name": "stdout",
          "text": [
            "The age of the Akash is 16\n",
            "The age of the Megha is 21\n",
            "The age of the Rahul is 20\n",
            "The age of the Shivam is 23\n",
            "The age of the Supriya is 18\n"
          ]
        }
      ]
    },
    {
      "cell_type": "markdown",
      "source": [
        "Sort by values"
      ],
      "metadata": {
        "id": "QxMFSEfSD94g"
      }
    },
    {
      "cell_type": "code",
      "source": [
        "keys = list(mw.keys())\n",
        "values = list(mw.values())\n",
        "print(values)\n",
        "sorted_value_index = np.argsort(values)\n",
        "print(sorted_value_index)\n",
        "for i in sorted_value_index:\n",
        "  print(\"The age of the {} is {}\".format(keys[i], values[i]))\n"
      ],
      "metadata": {
        "colab": {
          "base_uri": "https://localhost:8080/"
        },
        "id": "Nh34VPRP_vjw",
        "outputId": "406712f3-9895-4487-8c0a-4f26372e0943"
      },
      "execution_count": 42,
      "outputs": [
        {
          "output_type": "stream",
          "name": "stdout",
          "text": [
            "[16, 18, 23, 20]\n",
            "[0 1 3 2]\n",
            "The age of the Akash is 16\n",
            "The age of the Supriya is 18\n",
            "The age of the Rahul is 20\n",
            "The age of the Shivam is 23\n"
          ]
        }
      ]
    },
    {
      "cell_type": "markdown",
      "source": [
        "Efficient way: Sort by values"
      ],
      "metadata": {
        "id": "LK9PeY7JEA77"
      }
    },
    {
      "cell_type": "code",
      "source": [
        "for species in sorted(mw, key = mw.get):\n",
        "    print(\" {}  {}\".format(species, mw[species]))"
      ],
      "metadata": {
        "colab": {
          "base_uri": "https://localhost:8080/"
        },
        "id": "h5mDZl9zED7z",
        "outputId": "bb0fa315-2b16-46a5-aede-d755aa8d575b"
      },
      "execution_count": 15,
      "outputs": [
        {
          "output_type": "stream",
          "name": "stdout",
          "text": [
            " Akash  16\n",
            " Supriya  18\n",
            " Rahul  20\n",
            " Megha  21\n",
            " Shivam  23\n"
          ]
        }
      ]
    },
    {
      "cell_type": "markdown",
      "source": [
        "# Python Tuples"
      ],
      "metadata": {
        "id": "6U71f5vPE-2a"
      }
    },
    {
      "cell_type": "markdown",
      "source": [
        "# Tuple\n",
        "Tuples are used to store multiple items in a single variable.\n",
        "\n",
        "Tuple is one of 4 built-in data types in Python used to store collections of data, the other 3 are List, Set, and Dictionary, all with different qualities and usage.\n",
        "\n",
        "A tuple is a collection which is ordered and unchangeable.\n",
        "\n",
        "Tuples are written with round brackets."
      ],
      "metadata": {
        "id": "c5iIZk7iFJAz"
      }
    },
    {
      "cell_type": "code",
      "source": [
        "thistuple = (\"apple\", \"banana\", \"cherry\")\n",
        "print(thistuple)"
      ],
      "metadata": {
        "colab": {
          "base_uri": "https://localhost:8080/"
        },
        "id": "etfdT3WGFBT8",
        "outputId": "3398e17a-7f50-45fd-bc64-93c4b7828d93"
      },
      "execution_count": 45,
      "outputs": [
        {
          "output_type": "stream",
          "name": "stdout",
          "text": [
            "('apple', 'banana', 'cherry')\n"
          ]
        }
      ]
    },
    {
      "cell_type": "markdown",
      "source": [
        "# Tuple Items\n",
        "Tuple items are ordered, unchangeable, and allow duplicate values.\n",
        "\n",
        "Tuple items are indexed, the first item has index [0], the second item has index [1] etc.\n",
        "\n",
        "# Ordered\n",
        "When we say that tuples are ordered, it means that the items have a defined order, and that order will not change.\n",
        "\n",
        "# Unchangeable\n",
        "Tuples are unchangeable, meaning that we cannot change, add or remove items after the tuple has been created.\n",
        "\n",
        "# Allow Duplicates\n",
        "Since tuples are indexed, they can have items with the same value"
      ],
      "metadata": {
        "id": "2Enn8ynaFTAt"
      }
    },
    {
      "cell_type": "code",
      "source": [
        "thistuple = (\"apple\", \"banana\", \"cherry\", \"apple\", \"cherry\")\n",
        "print(thistuple)"
      ],
      "metadata": {
        "colab": {
          "base_uri": "https://localhost:8080/"
        },
        "id": "_LEdVmf-FVT2",
        "outputId": "741c4cb3-d1b1-4b91-c57e-ce7f9f88779c"
      },
      "execution_count": 46,
      "outputs": [
        {
          "output_type": "stream",
          "name": "stdout",
          "text": [
            "('apple', 'banana', 'cherry', 'apple', 'cherry')\n"
          ]
        }
      ]
    },
    {
      "cell_type": "code",
      "source": [
        "#print the lenght of the tuple\n",
        "thistuple = (\"apple\", \"banana\", \"cherry\")\n",
        "print(len(thistuple))"
      ],
      "metadata": {
        "colab": {
          "base_uri": "https://localhost:8080/"
        },
        "id": "_W6Cl6MCFtl1",
        "outputId": "b9a43959-a485-43c4-bac6-7cb5f4be765c"
      },
      "execution_count": 47,
      "outputs": [
        {
          "output_type": "stream",
          "name": "stdout",
          "text": [
            "3\n"
          ]
        }
      ]
    },
    {
      "cell_type": "code",
      "source": [
        "#A tuple can have different datatypes such as strings, integers and boolean values.\n",
        "tuple1 = (\"abc\", 34, True, 40, \"male\")"
      ],
      "metadata": {
        "id": "zjvIoemMF7Gp"
      },
      "execution_count": 48,
      "outputs": []
    },
    {
      "cell_type": "code",
      "source": [
        "#print the type of the\n",
        "type(tuple1)"
      ],
      "metadata": {
        "colab": {
          "base_uri": "https://localhost:8080/"
        },
        "id": "TV4jzNLTGG2T",
        "outputId": "17e15c28-7103-4f19-90bc-7133982f3308"
      },
      "execution_count": 49,
      "outputs": [
        {
          "output_type": "execute_result",
          "data": {
            "text/plain": [
              "tuple"
            ]
          },
          "metadata": {},
          "execution_count": 49
        }
      ]
    },
    {
      "cell_type": "markdown",
      "source": [
        "## Control Statements"
      ],
      "metadata": {
        "id": "9XWeexA5Lvo0"
      }
    },
    {
      "cell_type": "markdown",
      "source": [
        "If Else"
      ],
      "metadata": {
        "id": "ewP7BcRZLz92"
      }
    },
    {
      "cell_type": "code",
      "source": [
        "password = input('Enter password ')\n",
        "\n",
        "if password == \"PYnative@#29\":\n",
        "    print(\"Correct password\")\n",
        "else:\n",
        "    print(\"Incorrect Password\")"
      ],
      "metadata": {
        "colab": {
          "base_uri": "https://localhost:8080/"
        },
        "id": "Szuqq-nSL2hl",
        "outputId": "09ed4e2c-e5b0-4e1d-bce2-4cbf4f42f94a"
      },
      "execution_count": 50,
      "outputs": [
        {
          "output_type": "stream",
          "name": "stdout",
          "text": [
            "Enter password Hi\n",
            "Incorrect Password\n"
          ]
        }
      ]
    },
    {
      "cell_type": "markdown",
      "source": [
        "Nested if-else statement"
      ],
      "metadata": {
        "id": "4_EoJXVSL_a7"
      }
    },
    {
      "cell_type": "code",
      "source": [
        "num1 = int(input('Enter first number '))\n",
        "num2 = int(input('Enter second number '))\n",
        "\n",
        "if num1 >= num2:\n",
        "    if num1 == num2:\n",
        "        print(num1, 'and', num2, 'are equal')\n",
        "    else:\n",
        "        print(num1, 'is greater than', num2)\n",
        "else:\n",
        "    print(num1, 'is smaller than', num2)"
      ],
      "metadata": {
        "colab": {
          "base_uri": "https://localhost:8080/"
        },
        "id": "DfKj6OlsL5tL",
        "outputId": "ab752546-ccee-42e9-8269-b92175e37dc8"
      },
      "execution_count": 51,
      "outputs": [
        {
          "output_type": "stream",
          "name": "stdout",
          "text": [
            "Enter first number 1\n",
            "Enter second number 2\n",
            "1 is smaller than 2\n"
          ]
        }
      ]
    },
    {
      "cell_type": "markdown",
      "source": [
        "While Loop"
      ],
      "metadata": {
        "id": "rcHZ6XeUMbA9"
      }
    },
    {
      "cell_type": "code",
      "source": [
        "x = 1\n",
        "while x <= 5:\n",
        "  print(x)\n",
        "  x = x+1"
      ],
      "metadata": {
        "colab": {
          "base_uri": "https://localhost:8080/"
        },
        "id": "5AyRLny9MTne",
        "outputId": "26ee02db-e872-49e5-a665-144434f9bce1"
      },
      "execution_count": 54,
      "outputs": [
        {
          "output_type": "stream",
          "name": "stdout",
          "text": [
            "1\n",
            "2\n",
            "3\n",
            "4\n",
            "5\n"
          ]
        }
      ]
    },
    {
      "cell_type": "markdown",
      "source": [
        "For Loop"
      ],
      "metadata": {
        "id": "Y8auHlYcMrWe"
      }
    },
    {
      "cell_type": "code",
      "source": [
        "for i in range(1, 11):\n",
        "    print(i)"
      ],
      "metadata": {
        "colab": {
          "base_uri": "https://localhost:8080/"
        },
        "id": "ipbMld0bMuxl",
        "outputId": "0b65efff-0ccf-49ca-83e2-16cf8038b1e8"
      },
      "execution_count": 55,
      "outputs": [
        {
          "output_type": "stream",
          "name": "stdout",
          "text": [
            "1\n",
            "2\n",
            "3\n",
            "4\n",
            "5\n",
            "6\n",
            "7\n",
            "8\n",
            "9\n",
            "10\n"
          ]
        }
      ]
    },
    {
      "cell_type": "markdown",
      "source": [
        "# Break Statement in Python\n",
        "The break statement is used inside the loop to exit out of the loop. It is useful when we want to terminate the loop as soon as the condition is fulfilled instead of doing the remaining iterations. It reduces execution time. Whenever the controller encountered a break statement, it comes out of that loop immediately"
      ],
      "metadata": {
        "id": "CspkgvK-M2Og"
      }
    },
    {
      "cell_type": "code",
      "source": [
        "for num in range(10):\n",
        "    if num > 5:\n",
        "        print(\"stop processing.\")\n",
        "        break\n",
        "    print(num)"
      ],
      "metadata": {
        "colab": {
          "base_uri": "https://localhost:8080/"
        },
        "id": "hHXBTB_iM71F",
        "outputId": "72f511f0-f84f-4945-fe66-72590e403cb5"
      },
      "execution_count": 56,
      "outputs": [
        {
          "output_type": "stream",
          "name": "stdout",
          "text": [
            "0\n",
            "1\n",
            "2\n",
            "3\n",
            "4\n",
            "5\n",
            "stop processing.\n"
          ]
        }
      ]
    },
    {
      "cell_type": "markdown",
      "source": [
        "Continue statement in python"
      ],
      "metadata": {
        "id": "aMtMAKW4NSY2"
      }
    },
    {
      "cell_type": "code",
      "source": [
        "for num in range(3, 8):\n",
        "    if num == 5:\n",
        "        continue\n",
        "        print(\"Hi\")\n",
        "    else:\n",
        "        print(num)"
      ],
      "metadata": {
        "colab": {
          "base_uri": "https://localhost:8080/"
        },
        "id": "GdI3lhuANTi_",
        "outputId": "9a6cb962-21a9-43ad-b8dc-1b7802e3b48e"
      },
      "execution_count": 57,
      "outputs": [
        {
          "output_type": "stream",
          "name": "stdout",
          "text": [
            "3\n",
            "4\n",
            "6\n",
            "7\n"
          ]
        }
      ]
    },
    {
      "cell_type": "markdown",
      "source": [
        "## Python String\n",
        "A String is a data structure in Python that represents a sequence of characters. It is an immutable data type, meaning that once you have created a string, you cannot change it. Strings are used widely in many different applications, such as storing and manipulating text data, representing names, addresses, and other types of data that can be represented as text."
      ],
      "metadata": {
        "id": "T8BXmmxoUjGW"
      }
    },
    {
      "cell_type": "code",
      "source": [
        "# Python Program for\n",
        "# Creation of String\n",
        "\n",
        "# Creating a String\n",
        "# with single Quotes\n",
        "String1 = 'Welcome to the Geeks World'\n",
        "print(\"String with the use of Single Quotes: \")\n",
        "print(String1)\n",
        "\n",
        "# Creating a String\n",
        "# with double Quotes\n",
        "String1 = \"I'm a Geek\"\n",
        "print(\"\\nString with the use of Double Quotes: \")\n",
        "print(String1)\n",
        "\n",
        "# Creating a String\n",
        "# with triple Quotes\n",
        "String1 = '''I'm a Geek and I live in a world of \"Geeks\"'''\n",
        "print(\"\\nString with the use of Triple Quotes: \")\n",
        "print(String1)\n",
        "\n",
        "# Creating String with triple\n",
        "# Quotes allows multiple lines\n",
        "String1 = '''Geeks\n",
        "\t\t\tFor\n",
        "\t\t\tLife'''\n",
        "print(\"\\nCreating a multiline String: \")\n",
        "print(String1)\n"
      ],
      "metadata": {
        "colab": {
          "base_uri": "https://localhost:8080/"
        },
        "id": "wzjgbLZFUhhl",
        "outputId": "2c7b0828-f9bd-45c1-8654-df462efeb6e2"
      },
      "execution_count": 58,
      "outputs": [
        {
          "output_type": "stream",
          "name": "stdout",
          "text": [
            "String with the use of Single Quotes: \n",
            "Welcome to the Geeks World\n",
            "\n",
            "String with the use of Double Quotes: \n",
            "I'm a Geek\n",
            "\n",
            "String with the use of Triple Quotes: \n",
            "I'm a Geek and I live in a world of \"Geeks\"\n",
            "\n",
            "Creating a multiline String: \n",
            "Geeks\n",
            "\t\t\tFor\n",
            "\t\t\tLife\n"
          ]
        }
      ]
    },
    {
      "cell_type": "code",
      "source": [
        "# Python Program to Access\n",
        "# characters of String\n",
        "\n",
        "String1 = \"GeeksForGeeks\"\n",
        "print(\"Initial String: \")\n",
        "print(String1)\n",
        "\n",
        "# Printing First character\n",
        "print(\"\\nFirst character of String is: \")\n",
        "print(String1[0])\n",
        "\n",
        "# Printing Last character\n",
        "print(\"\\nLast character of String is: \")\n",
        "print(String1[-1])\n",
        "\n",
        "# Printing 3rd to 11th character: GeeksForGeeks\n",
        "print(\"\\nSlicing characters from 3-11: \")\n",
        "print(String1[3:12])\n",
        "\n",
        "# Printing characters between\n",
        "# 3rd and 2nd last character\n",
        "print(\"\\nSlicing characters between \" +\n",
        "      \"3rd and 2nd last character: \")\n",
        "print(String1[3:-2])\n"
      ],
      "metadata": {
        "colab": {
          "base_uri": "https://localhost:8080/"
        },
        "id": "U9Sse2gSVjZL",
        "outputId": "eabdad00-e6be-4fd0-91f0-5cc302a25468"
      },
      "execution_count": 61,
      "outputs": [
        {
          "output_type": "stream",
          "name": "stdout",
          "text": [
            "Initial String: \n",
            "GeeksForGeeks\n",
            "\n",
            "First character of String is: \n",
            "G\n",
            "\n",
            "Last character of String is: \n",
            "s\n",
            "\n",
            "Slicing characters from 3-11: \n",
            "ksForGeek\n",
            "\n",
            "Slicing characters between 3rd and 2nd last character: \n",
            "ksForGee\n"
          ]
        }
      ]
    },
    {
      "cell_type": "code",
      "source": [
        "#Program to reverse a string\n",
        "gfg = \"geeksforgeeks\"\n",
        "print(gfg[::-1])"
      ],
      "metadata": {
        "colab": {
          "base_uri": "https://localhost:8080/"
        },
        "id": "fJXk9QyuVlDR",
        "outputId": "d0bf77e7-aa7d-462b-b8b9-f5a458c02525"
      },
      "execution_count": 62,
      "outputs": [
        {
          "output_type": "stream",
          "name": "stdout",
          "text": [
            "skeegrofskeeg\n"
          ]
        }
      ]
    },
    {
      "cell_type": "code",
      "source": [
        "\n",
        "# Program to reverse a string\n",
        "\n",
        "gfg = \"geeksforgeeks\"\n",
        "\n",
        "# Reverse the string using reversed and join function\n",
        "gfg = \"\".join(reversed(gfg))\n",
        "\n",
        "print(gfg)"
      ],
      "metadata": {
        "colab": {
          "base_uri": "https://localhost:8080/"
        },
        "id": "eh8ZwekTW2O_",
        "outputId": "01b33fe9-d54f-4b14-b16e-97d2e77a18f8"
      },
      "execution_count": 65,
      "outputs": [
        {
          "output_type": "stream",
          "name": "stdout",
          "text": [
            "skeegrofskeeg\n"
          ]
        }
      ]
    },
    {
      "cell_type": "code",
      "source": [
        "# Strings are immutable therefore error\n",
        "gfg = \"geeksforgeeks\"\n",
        "gfg[0] ='A'"
      ],
      "metadata": {
        "colab": {
          "base_uri": "https://localhost:8080/",
          "height": 215
        },
        "id": "JSgQNHlUYzRI",
        "outputId": "dfe61eae-38a3-45f2-8426-a4281b99aa8c"
      },
      "execution_count": 67,
      "outputs": [
        {
          "output_type": "error",
          "ename": "TypeError",
          "evalue": "ignored",
          "traceback": [
            "\u001b[0;31m---------------------------------------------------------------------------\u001b[0m",
            "\u001b[0;31mTypeError\u001b[0m                                 Traceback (most recent call last)",
            "\u001b[0;32m<ipython-input-67-155fbd692e55>\u001b[0m in \u001b[0;36m<cell line: 3>\u001b[0;34m()\u001b[0m\n\u001b[1;32m      1\u001b[0m \u001b[0;31m# Strings are immutable\u001b[0m\u001b[0;34m\u001b[0m\u001b[0;34m\u001b[0m\u001b[0m\n\u001b[1;32m      2\u001b[0m \u001b[0mgfg\u001b[0m \u001b[0;34m=\u001b[0m \u001b[0;34m\"geeksforgeeks\"\u001b[0m\u001b[0;34m\u001b[0m\u001b[0;34m\u001b[0m\u001b[0m\n\u001b[0;32m----> 3\u001b[0;31m \u001b[0mgfg\u001b[0m\u001b[0;34m[\u001b[0m\u001b[0;36m0\u001b[0m\u001b[0;34m]\u001b[0m \u001b[0;34m=\u001b[0m\u001b[0;34m'A'\u001b[0m\u001b[0;34m\u001b[0m\u001b[0;34m\u001b[0m\u001b[0m\n\u001b[0m",
            "\u001b[0;31mTypeError\u001b[0m: 'str' object does not support item assignment"
          ]
        }
      ]
    },
    {
      "cell_type": "code",
      "source": [
        "# But we can update entire String pointer\n",
        "# Python Program to Update\n",
        "# entire String\n",
        "\n",
        "String1 = \"Hello, I'm a Geek\"\n",
        "print(\"Initial String: \")\n",
        "print(String1)\n",
        "\n",
        "# Updating a String\n",
        "String1 = \"Welcome to the Geek World\"\n",
        "print(\"\\nUpdated String: \")\n",
        "print(String1)\n"
      ],
      "metadata": {
        "colab": {
          "base_uri": "https://localhost:8080/"
        },
        "id": "zK6DTWJEaBpw",
        "outputId": "7b289589-6f67-49ed-b515-262f038cb06c"
      },
      "execution_count": 68,
      "outputs": [
        {
          "output_type": "stream",
          "name": "stdout",
          "text": [
            "Initial String: \n",
            "Hello, I'm a Geek\n",
            "\n",
            "Updated String: \n",
            "Welcome to the Geek World\n"
          ]
        }
      ]
    },
    {
      "cell_type": "code",
      "source": [
        "# Escaping Single Quote\n",
        "String1 = 'I\\'m a \"Geek\"'\n",
        "print(\"\\nEscaping Single Quote: \")\n",
        "print(String1)\n",
        ""
      ],
      "metadata": {
        "colab": {
          "base_uri": "https://localhost:8080/"
        },
        "id": "SA70AC-AbCsa",
        "outputId": "b78c3c74-7cf4-4644-a820-1e9ddd69cd9d"
      },
      "execution_count": 69,
      "outputs": [
        {
          "output_type": "stream",
          "name": "stdout",
          "text": [
            "\n",
            "Escaping Single Quote: \n",
            "I'm a \"Geek\"\n"
          ]
        }
      ]
    },
    {
      "cell_type": "code",
      "source": [
        "# Python Program for\n",
        "# Formatting of Strings\n",
        "\n",
        "# Default order\n",
        "String1 = \"{} {} {}\".format('Geeks', 'For', 'Life')\n",
        "print(\"Print String in default order: \")\n",
        "print(String1)\n",
        "\n",
        "# Positional Formatting\n",
        "String1 = \"{1} {0} {2}\".format('Geeks', 'For', 'Life')\n",
        "print(\"\\nPrint String in Positional order: \")\n",
        "print(String1)\n",
        "\n",
        "# Keyword Formatting\n",
        "String1 = \"{l} {f} {g}\".format(g='Geeks', f='For', l='Life')\n",
        "print(\"\\nPrint String in order of Keywords: \")\n",
        "print(String1)\n"
      ],
      "metadata": {
        "colab": {
          "base_uri": "https://localhost:8080/"
        },
        "id": "7YUIUXRSbT6q",
        "outputId": "7c05bb5d-662b-4d11-dd09-80e9695dea3b"
      },
      "execution_count": 70,
      "outputs": [
        {
          "output_type": "stream",
          "name": "stdout",
          "text": [
            "Print String in default order: \n",
            "Geeks For Life\n",
            "\n",
            "Print String in Positional order: \n",
            "For Geeks Life\n",
            "\n",
            "Print String in order of Keywords: \n",
            "Life For Geeks\n"
          ]
        }
      ]
    },
    {
      "cell_type": "code",
      "source": [
        "# Formatting of Integers\n",
        "String1 = \"{0:b}\".format(16)\n",
        "print(\"\\nBinary representation of 16 is \")\n",
        "print(String1)\n",
        "\n",
        "# Formatting of Floats\n",
        "String1 = \"{0:e}\".format(165.6458)\n",
        "print(\"\\nExponent representation of 165.6458 is \")\n",
        "print(String1)\n",
        "\n",
        "# Rounding off Integers\n",
        "String1 = \"{0:.2f}\".format(1/6)\n",
        "print(\"\\none-sixth is : \")\n",
        "print(String1)\n"
      ],
      "metadata": {
        "colab": {
          "base_uri": "https://localhost:8080/"
        },
        "id": "48C1KgWPbZSF",
        "outputId": "f54d46e1-fdbc-431d-80eb-cd28c00b1662"
      },
      "execution_count": 71,
      "outputs": [
        {
          "output_type": "stream",
          "name": "stdout",
          "text": [
            "\n",
            "Binary representation of 16 is \n",
            "10000\n",
            "\n",
            "Exponent representation of 165.6458 is \n",
            "1.656458e+02\n",
            "\n",
            "one-sixth is : \n",
            "0.17\n"
          ]
        }
      ]
    },
    {
      "cell_type": "code",
      "source": [
        "# String alignment\n",
        "String1 = \"|{:<10}|{:^10}|{:>10}|\".format('Geeks',\n",
        "\t\t\t\t\t\t\t\t\t\t'for',\n",
        "\t\t\t\t\t\t\t\t\t\t'Geeks')\n",
        "print(\"\\nLeft, center and right alignment with Formatting: \")\n",
        "print(String1)\n",
        "\n",
        "# To demonstrate aligning of spaces\n",
        "String1 = \"\\n{0:^16} was founded in {1:<4}!\".format(\"GeeksforGeeks\",\n",
        "\t\t\t\t\t\t\t\t\t\t\t\t\t2009)\n",
        "print(String1)\n"
      ],
      "metadata": {
        "colab": {
          "base_uri": "https://localhost:8080/"
        },
        "id": "WK9XPqjmdNN6",
        "outputId": "4a35e296-5bdf-462e-cea7-923648c35ebb"
      },
      "execution_count": 72,
      "outputs": [
        {
          "output_type": "stream",
          "name": "stdout",
          "text": [
            "\n",
            "Left, center and right alignment with Formatting: \n",
            "|Geeks     |   for    |     Geeks|\n",
            "\n",
            " GeeksforGeeks   was founded in 2009!\n"
          ]
        }
      ]
    },
    {
      "cell_type": "code",
      "source": [
        "# Python Program for\n",
        "# Old Style Formatting\n",
        "# of Integers\n",
        "\n",
        "Integer1 = 12.3456789\n",
        "print(\"Formatting in 3.2f format: \")\n",
        "print('The value of Integer1 is %3.2f' % Integer1)\n",
        "print(\"\\nFormatting in 3.4f format: \")\n",
        "print('The value of Integer1 is %3.4f' % Integer1)\n"
      ],
      "metadata": {
        "colab": {
          "base_uri": "https://localhost:8080/"
        },
        "id": "bLTt5ro_d2jm",
        "outputId": "efdd7a71-27d3-4f6c-d0b7-961ad957ccd5"
      },
      "execution_count": 73,
      "outputs": [
        {
          "output_type": "stream",
          "name": "stdout",
          "text": [
            "Formatting in 3.2f format: \n",
            "The value of Integer1 is 12.35\n",
            "\n",
            "Formatting in 3.4f format: \n",
            "The value of Integer1 is 12.3457\n"
          ]
        }
      ]
    },
    {
      "cell_type": "markdown",
      "source": [
        "## File Handling"
      ],
      "metadata": {
        "id": "28I-GJXmDTwx"
      }
    },
    {
      "cell_type": "code",
      "source": [
        "f = open(\"demofile2.txt\", \"a\")\n",
        "f.write(\"Now the file has more content! \\n Hi How are you.\")\n",
        "f.close()\n",
        "\n",
        "#open and read the file after the appending:\n",
        "f = open(\"demofile2.txt\", \"r\")\n",
        "print(f.read())"
      ],
      "metadata": {
        "colab": {
          "base_uri": "https://localhost:8080/"
        },
        "id": "LqvEbwjGDVt5",
        "outputId": "bceca992-beb4-45e9-aae5-d49bd0580dc7"
      },
      "execution_count": 3,
      "outputs": [
        {
          "output_type": "stream",
          "name": "stdout",
          "text": [
            "Now the file has more content!Now the file has more content! \n",
            " Hi How are you.\n"
          ]
        }
      ]
    },
    {
      "cell_type": "code",
      "source": [
        "# a file named \"geek\", will be opened with the reading mode.\n",
        "file = open('demofile2.txt', 'r')\n",
        "\n",
        "# This will print every line one by one in the file\n",
        "for each in file:\n",
        "\tprint (each)\n"
      ],
      "metadata": {
        "colab": {
          "base_uri": "https://localhost:8080/"
        },
        "id": "zcXiL_VxDzl8",
        "outputId": "f40184f5-c312-49cc-c8da-92b1f48d5d55"
      },
      "execution_count": 4,
      "outputs": [
        {
          "output_type": "stream",
          "name": "stdout",
          "text": [
            "Now the file has more content!Now the file has more content! \n",
            "\n",
            " Hi How are you.\n"
          ]
        }
      ]
    },
    {
      "cell_type": "code",
      "source": [
        "# Python code to illustrate with()\n",
        "with open(\"demofile2.txt\") as file:\n",
        "\tdata = file.read()\n",
        "\n",
        "print(data)\n"
      ],
      "metadata": {
        "colab": {
          "base_uri": "https://localhost:8080/"
        },
        "id": "HyZAqDRaEK31",
        "outputId": "1f7c025d-9c42-4e17-905c-c1026dffc359"
      },
      "execution_count": 7,
      "outputs": [
        {
          "output_type": "stream",
          "name": "stdout",
          "text": [
            "Now the file has more content!Now the file has more content! \n",
            " Hi How are you.\n"
          ]
        }
      ]
    },
    {
      "cell_type": "markdown",
      "source": [
        "## For more information\n",
        "https://www.geeksforgeeks.org/file-handling-python/"
      ],
      "metadata": {
        "id": "FAsgkhpZEeZc"
      }
    },
    {
      "cell_type": "code",
      "source": [],
      "metadata": {
        "id": "mbSDwsk8Efk8"
      },
      "execution_count": null,
      "outputs": []
    }
  ]
}