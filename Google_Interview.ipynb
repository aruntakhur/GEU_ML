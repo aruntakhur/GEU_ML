{
  "nbformat": 4,
  "nbformat_minor": 0,
  "metadata": {
    "colab": {
      "provenance": [],
      "authorship_tag": "ABX9TyNmaPrbyoY3wJp12Mf0oASf",
      "include_colab_link": true
    },
    "kernelspec": {
      "name": "python3",
      "display_name": "Python 3"
    },
    "language_info": {
      "name": "python"
    }
  },
  "cells": [
    {
      "cell_type": "markdown",
      "metadata": {
        "id": "view-in-github",
        "colab_type": "text"
      },
      "source": [
        "<a href=\"https://colab.research.google.com/github/aruntakhur/GEU_ML/blob/main/Google_Interview.ipynb\" target=\"_parent\"><img src=\"https://colab.research.google.com/assets/colab-badge.svg\" alt=\"Open In Colab\"/></a>"
      ]
    },
    {
      "cell_type": "markdown",
      "source": [
        "[Q1](https://colab.research.google.com/drive/1X-Graptl_Hr2nrvzS78t59mX1PPtozgs#scrollTo=rYabLQ7Zq0yz&line=1&uniqifier=1): Sum of two numbers in array euqlas to traget   \n",
        "[Q2](https://colab.research.google.com/drive/1X-Graptl_Hr2nrvzS78t59mX1PPtozgs#scrollTo=YMoSzAU6_BhU&line=1&uniqifier=1): Finding Palindrome  \n",
        "[Q3](https://colab.research.google.com/drive/1X-Graptl_Hr2nrvzS78t59mX1PPtozgs#scrollTo=dCyFgUWtCa1N&line=1&uniqifier=1): Longest Common Prefix"
      ],
      "metadata": {
        "id": "T2EkEp9hCkb7"
      }
    },
    {
      "cell_type": "markdown",
      "source": [
        "# Question 1\n",
        "Given an array of integers nums and an integer target, return indices of the two numbers such that they add up to target.\n",
        "\n",
        "You may assume that each input would have exactly one solution, and you may not use the same element twice.\n",
        "\n",
        "You can return the answer in any order."
      ],
      "metadata": {
        "id": "rYabLQ7Zq0yz"
      }
    },
    {
      "cell_type": "code",
      "execution_count": 13,
      "metadata": {
        "colab": {
          "base_uri": "https://localhost:8080/"
        },
        "id": "8l5lQboitDza",
        "outputId": "737d5e96-8111-475a-e9a1-944b4ed5b210"
      },
      "outputs": [
        {
          "output_type": "stream",
          "name": "stdout",
          "text": [
            "1 2\n"
          ]
        }
      ],
      "source": [
        "# Time: 1477 ms Memory 14.32 MB\n",
        "class Solution(object):\n",
        "    def twoSum(self, nums, target):\n",
        "        \"\"\"\n",
        "        :type nums: List[int]\n",
        "        :type target: int\n",
        "        :rtype: List[int]\n",
        "        \"\"\"\n",
        "        for i in range(len(nums)):\n",
        "          x_temp = target - nums[i]\n",
        "          #print(\"i,x_temp\",i,x_temp)\n",
        "          for j in range(i+1,len(nums)):\n",
        "            if nums[j]==x_temp:\n",
        "                #print(\"i,j\",i,j)\n",
        "                return i,j\n",
        "        return 0,0\n",
        "\n",
        "nums = [3,2,4]\n",
        "target = 6\n",
        "\n",
        "obj = Solution()\n",
        "i,j = obj.twoSum(nums,target)\n",
        "print(i,j)"
      ]
    },
    {
      "cell_type": "code",
      "source": [
        "# Time: 44 ms Memory 13.98 MB\n",
        "class Solution(object):\n",
        "    def twoSum(self, nums, target):\n",
        "        \"\"\"\n",
        "        :type nums: List[int]\n",
        "        :type target: int\n",
        "        :rtype: List[int]\n",
        "        \"\"\"\n",
        "        dic = {}\n",
        "        for i in range(len(nums)):\n",
        "          #x_temp = target - nums[i]\n",
        "          dic[nums[i]] = i\n",
        "        for i in range(len(nums)):\n",
        "          x_temp = target - nums[i]\n",
        "          if x_temp in dic and dic[x_temp] != i:\n",
        "            return i, dic[x_temp]\n",
        "\n",
        "nums = [3,2,4]\n",
        "target = 6\n",
        "\n",
        "obj = Solution()\n",
        "i,j = obj.twoSum(nums,target)\n",
        "print(i,j)"
      ],
      "metadata": {
        "colab": {
          "base_uri": "https://localhost:8080/"
        },
        "id": "SvJLX8ojkVki",
        "outputId": "545bd5fa-ebd8-420a-f7ca-cc78d5166184"
      },
      "execution_count": 10,
      "outputs": [
        {
          "output_type": "stream",
          "name": "stdout",
          "text": [
            "{3: 0, 2: 1, 4: 2}\n",
            "1 2\n"
          ]
        }
      ]
    },
    {
      "cell_type": "code",
      "source": [
        "# Time: 40 ms Memory 14.13 MB\n",
        "class Solution(object):\n",
        "    def twoSum(self, nums, target):\n",
        "        d = {}\n",
        "        for i, val in enumerate(nums):\n",
        "            comp = target - val\n",
        "            if comp in d:\n",
        "                return [d[comp], i]\n",
        "            else:\n",
        "                d[val] = i\n",
        "        return []"
      ],
      "metadata": {
        "id": "9ZRf6QvrsYUf"
      },
      "execution_count": null,
      "outputs": []
    },
    {
      "cell_type": "code",
      "source": [
        "# Time: 37 ms Memory 14.05 MB\n",
        "class Solution(object):\n",
        "    def twoSum(self, nums, x):\n",
        "     a = sorted(nums)\n",
        "     left, right = 0, len(a) - 1\n",
        "     while left < right:\n",
        "        if a[left] + a[right] == x:\n",
        "            if a[left] == a[right]:\n",
        "                return [nums.index(a[left]), nums.index(a[left],left + 1)]\n",
        "            else:\n",
        "                return [nums.index(a[left]), nums.index(a[right])]\n",
        "        elif a[left] + a[right] < x:\n",
        "            left = left + 1\n",
        "        else:\n",
        "            right = right - 1\n",
        "     return []\n",
        "nums = [3,2,3]\n",
        "target = 6\n",
        "\n",
        "obj = Solution()\n",
        "i,j = obj.twoSum(nums,target)\n",
        "print(i,j)"
      ],
      "metadata": {
        "colab": {
          "base_uri": "https://localhost:8080/"
        },
        "id": "pTnJVcmw0Lhv",
        "outputId": "d63a8770-25d0-43a1-da91-b941a8856588"
      },
      "execution_count": 25,
      "outputs": [
        {
          "output_type": "stream",
          "name": "stdout",
          "text": [
            "0 2\n",
            "0 2\n",
            "1 2\n",
            "1 2\n",
            "3 3 al ar\n",
            "0 2\n"
          ]
        }
      ]
    },
    {
      "cell_type": "markdown",
      "source": [
        "# Question 2\n",
        "Given an integer x, return true if x is a\n",
        "palindrome\n",
        ", and false otherwise.\n",
        "\n",
        "\n",
        "\n",
        "Example 1:\n",
        "\n",
        "Input: x = 121\n",
        "Output: true\n",
        "Explanation: 121 reads as 121 from left to right and from right to left.\n",
        "Example 2:\n",
        "\n",
        "Input: x = -121\n",
        "Output: false\n",
        "Explanation: From left to right, it reads -121. From right to left, it becomes 121-. Therefore it is not a palindrome.\n",
        "Example 3:\n",
        "\n",
        "Input: x = 10\n",
        "Output: false\n",
        "Explanation: Reads 01 from right to left. Therefore it is not a palindrome.\n",
        ""
      ],
      "metadata": {
        "id": "YMoSzAU6_BhU"
      }
    },
    {
      "cell_type": "code",
      "source": [
        "# Time: 83 ms Memory 13.09 MB\n",
        "\n",
        "class Solution(object):\n",
        "    def isPalindrome(self, x):\n",
        "        \"\"\"\n",
        "        :type x: int\n",
        "        :rtype: bool\n",
        "        \"\"\"\n",
        "        if x != abs(x):\n",
        "            return False\n",
        "        list_1 = [int(i) for i in str(x)]\n",
        "        r = len(list_1)-1\n",
        "        l = 0\n",
        "        flag = 1\n",
        "        for i in range(l,r):\n",
        "            if l <= r:\n",
        "                if list_1[l] == list_1[r]:\n",
        "                    l = l + 1\n",
        "                    r = r - 1\n",
        "                else:\n",
        "                    flag = -1\n",
        "        if flag == 1:\n",
        "            return True"
      ],
      "metadata": {
        "id": "28Pm9DmE-40V"
      },
      "execution_count": null,
      "outputs": []
    },
    {
      "cell_type": "code",
      "source": [
        "# Time: 27 ms Memory 13.07 MB\n",
        "\n",
        "class Solution(object):\n",
        "  def isPalindrome(self, x):\n",
        "    # Base condition\n",
        "    if x < 0:\n",
        "        return False\n",
        "    # Store the number in a variable\n",
        "    number = x\n",
        "    # This will store the reverse of the number\n",
        "    reverse = 0\n",
        "    while number:\n",
        "        reverse = reverse * 10 + number % 10\n",
        "        number //= 10\n",
        "    return x == reverse"
      ],
      "metadata": {
        "id": "A79qZMrvD1Pq"
      },
      "execution_count": null,
      "outputs": []
    },
    {
      "cell_type": "code",
      "source": [
        "# Time: 30 ms Memory 13.14 MB\n",
        "class Solution(object):\n",
        "    def isPalindrome(self, x):\n",
        "        # Cast the number to a string\n",
        "        n = str(x)\n",
        "        # Reverse the string\n",
        "        m = n[::-1]\n",
        "        # Compare the reversed string to the original number to see if they match up\n",
        "        if n == m:\n",
        "            return True"
      ],
      "metadata": {
        "id": "mG67IonVEeKo"
      },
      "execution_count": null,
      "outputs": []
    },
    {
      "cell_type": "markdown",
      "source": [
        "## Question 3\n",
        "Write a function to find the longest common prefix string amongst an array of strings.\n",
        "\n",
        "If there is no common prefix, return an empty string \"\".\n",
        "\n",
        "Example 1:\n",
        "\n",
        "Input: strs = [\"flower\",\"flow\",\"flight\"]\n",
        "Output: \"fl\"\n",
        "Example 2:\n",
        "\n",
        "Input: strs = [\"dog\",\"racecar\",\"car\"]\n",
        "Output: \"\"\n",
        "Explanation: There is no common prefix among the input strings."
      ],
      "metadata": {
        "id": "dCyFgUWtCa1N"
      }
    },
    {
      "cell_type": "code",
      "source": [
        "# Time: 16 ms Memory 13.25 MB\n",
        "class Solution(object):\n",
        "    def longestCommonPrefix(self, strs):\n",
        "        \"\"\"\n",
        "        :type strs: List[str]\n",
        "        :rtype: str\n",
        "        \"\"\"\n",
        "        # variable for longest common prefix: lcp\n",
        "        lcp = \"\"\n",
        "\n",
        "        # if length of strs is None or 0 return empty string\n",
        "        if len(strs) == 0 or strs is None:\n",
        "          return \"\"\n",
        "\n",
        "        # Finding the minimum length of the string in strs\n",
        "        minlength = len(strs[0])\n",
        "        for i in range(len(strs)):\n",
        "            minlength = min(minlength, len(strs[i]))\n",
        "\n",
        "        for i in range(minlength):\n",
        "          current  = strs[0][i]\n",
        "          for j in range(len(strs)):\n",
        "            if strs[j][i] != current:\n",
        "                return lcp\n",
        "          lcp += current\n",
        "        return lcp\n",
        "\n",
        "\n",
        "\n",
        "obj = Solution()\n",
        "strs = [\"flower\",\"flow\",\"flight\"]\n",
        "obj.longestCommonPrefix(strs)"
      ],
      "metadata": {
        "colab": {
          "base_uri": "https://localhost:8080/",
          "height": 36
        },
        "id": "kZ6XrQoU6n9z",
        "outputId": "e9b19e83-4e0b-4fec-c0cc-6ba237c75084"
      },
      "execution_count": 10,
      "outputs": [
        {
          "output_type": "execute_result",
          "data": {
            "text/plain": [
              "'fl'"
            ],
            "application/vnd.google.colaboratory.intrinsic+json": {
              "type": "string"
            }
          },
          "metadata": {},
          "execution_count": 10
        }
      ]
    },
    {
      "cell_type": "code",
      "source": [
        "# Time: 10 ms Memory 13.38 MB\n",
        "class Solution(object):\n",
        "    def longestCommonPrefix(self, strs):\n",
        "        \"\"\"\n",
        "        :type strs: List[str]\n",
        "        :rtype: str\n",
        "        \"\"\"\n",
        "        # variable for longest common prefix: lcp\n",
        "        lcp = \"\"\n",
        "\n",
        "        # if length of strs is None or 0 return empty string\n",
        "        if len(strs) == 0 or strs is None:\n",
        "          return \"\"\n",
        "\n",
        "        # Finding the minimum length of the string in strs\n",
        "        minlength = len(strs[0])\n",
        "        arr_len = len(strs)\n",
        "        for i in range(arr_len):\n",
        "            minlength = min(minlength, len(strs[i]))\n",
        "\n",
        "        for i in range(minlength):\n",
        "          current  = strs[0][i]\n",
        "          for j in range(arr_len):\n",
        "            if strs[j][i] != current:\n",
        "                return lcp\n",
        "          lcp += current\n",
        "        return lcp"
      ],
      "metadata": {
        "id": "_QG0Bl0BAwHZ"
      },
      "execution_count": 11,
      "outputs": []
    }
  ]
}