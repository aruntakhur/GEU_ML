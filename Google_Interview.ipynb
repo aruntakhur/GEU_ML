{
  "nbformat": 4,
  "nbformat_minor": 0,
  "metadata": {
    "colab": {
      "provenance": [],
      "authorship_tag": "ABX9TyOO4kyLOozodZ25S/fUPvTa",
      "include_colab_link": true
    },
    "kernelspec": {
      "name": "python3",
      "display_name": "Python 3"
    },
    "language_info": {
      "name": "python"
    }
  },
  "cells": [
    {
      "cell_type": "markdown",
      "metadata": {
        "id": "view-in-github",
        "colab_type": "text"
      },
      "source": [
        "<a href=\"https://colab.research.google.com/github/aruntakhur/GEU_ML/blob/main/Google_Interview.ipynb\" target=\"_parent\"><img src=\"https://colab.research.google.com/assets/colab-badge.svg\" alt=\"Open In Colab\"/></a>"
      ]
    },
    {
      "cell_type": "markdown",
      "source": [
        "[Q1](https://colab.research.google.com/drive/1X-Graptl_Hr2nrvzS78t59mX1PPtozgs#scrollTo=rYabLQ7Zq0yz&line=1&uniqifier=1): Sum of two numbers in array equals to traget.   \n",
        "[Q2](https://colab.research.google.com/drive/1X-Graptl_Hr2nrvzS78t59mX1PPtozgs#scrollTo=YMoSzAU6_BhU&line=1&uniqifier=1): Finding Palindrome.  \n",
        "[Q3](https://colab.research.google.com/drive/1X-Graptl_Hr2nrvzS78t59mX1PPtozgs#scrollTo=dCyFgUWtCa1N&line=1&uniqifier=1): Longest Common Prefix.  \n",
        "[Q4](https://colab.research.google.com/drive/1X-Graptl_Hr2nrvzS78t59mX1PPtozgs#scrollTo=n71cEzzJE0vp&line=1&uniqifier=1): Roman numerals are represented by seven different symbols: I, V, X, L, C, D and M.\n",
        "\n"
      ],
      "metadata": {
        "id": "T2EkEp9hCkb7"
      }
    },
    {
      "cell_type": "markdown",
      "source": [
        "# Question 1\n",
        "Given an array of integers nums and an integer target, return indices of the two numbers such that they add up to target.\n",
        "\n",
        "You may assume that each input would have exactly one solution, and you may not use the same element twice.\n",
        "\n",
        "You can return the answer in any order."
      ],
      "metadata": {
        "id": "rYabLQ7Zq0yz"
      }
    },
    {
      "cell_type": "code",
      "execution_count": null,
      "metadata": {
        "colab": {
          "base_uri": "https://localhost:8080/"
        },
        "id": "8l5lQboitDza",
        "outputId": "737d5e96-8111-475a-e9a1-944b4ed5b210"
      },
      "outputs": [
        {
          "output_type": "stream",
          "name": "stdout",
          "text": [
            "1 2\n"
          ]
        }
      ],
      "source": [
        "# Time: 1477 ms Memory 14.32 MB\n",
        "class Solution(object):\n",
        "    def twoSum(self, nums, target):\n",
        "        \"\"\"\n",
        "        :type nums: List[int]\n",
        "        :type target: int\n",
        "        :rtype: List[int]\n",
        "        \"\"\"\n",
        "        for i in range(len(nums)):\n",
        "          x_temp = target - nums[i]\n",
        "          #print(\"i,x_temp\",i,x_temp)\n",
        "          for j in range(i+1,len(nums)):\n",
        "            if nums[j]==x_temp:\n",
        "                #print(\"i,j\",i,j)\n",
        "                return i,j\n",
        "        return 0,0\n",
        "\n",
        "nums = [3,2,4]\n",
        "target = 6\n",
        "\n",
        "obj = Solution()\n",
        "i,j = obj.twoSum(nums,target)\n",
        "print(i,j)"
      ]
    },
    {
      "cell_type": "code",
      "source": [
        "# Time: 44 ms Memory 13.98 MB\n",
        "class Solution(object):\n",
        "    def twoSum(self, nums, target):\n",
        "        \"\"\"\n",
        "        :type nums: List[int]\n",
        "        :type target: int\n",
        "        :rtype: List[int]\n",
        "        \"\"\"\n",
        "        dic = {}\n",
        "        for i in range(len(nums)):\n",
        "          #x_temp = target - nums[i]\n",
        "          dic[nums[i]] = i\n",
        "        for i in range(len(nums)):\n",
        "          x_temp = target - nums[i]\n",
        "          if x_temp in dic and dic[x_temp] != i:\n",
        "            return i, dic[x_temp]\n",
        "\n",
        "nums = [3,2,4]\n",
        "target = 6\n",
        "\n",
        "obj = Solution()\n",
        "i,j = obj.twoSum(nums,target)\n",
        "print(i,j)"
      ],
      "metadata": {
        "colab": {
          "base_uri": "https://localhost:8080/"
        },
        "id": "SvJLX8ojkVki",
        "outputId": "545bd5fa-ebd8-420a-f7ca-cc78d5166184"
      },
      "execution_count": null,
      "outputs": [
        {
          "output_type": "stream",
          "name": "stdout",
          "text": [
            "{3: 0, 2: 1, 4: 2}\n",
            "1 2\n"
          ]
        }
      ]
    },
    {
      "cell_type": "code",
      "source": [
        "# Time: 40 ms Memory 14.13 MB\n",
        "class Solution(object):\n",
        "    def twoSum(self, nums, target):\n",
        "        d = {}\n",
        "        for i, val in enumerate(nums):\n",
        "            comp = target - val\n",
        "            if comp in d:\n",
        "                return [d[comp], i]\n",
        "            else:\n",
        "                d[val] = i\n",
        "        return []"
      ],
      "metadata": {
        "id": "9ZRf6QvrsYUf"
      },
      "execution_count": null,
      "outputs": []
    },
    {
      "cell_type": "code",
      "source": [
        "# Time: 37 ms Memory 14.05 MB\n",
        "class Solution(object):\n",
        "    def twoSum(self, nums, x):\n",
        "     a = sorted(nums)\n",
        "     left, right = 0, len(a) - 1\n",
        "     while left < right:\n",
        "        if a[left] + a[right] == x:\n",
        "            if a[left] == a[right]:\n",
        "                return [nums.index(a[left]), nums.index(a[left],left + 1)]\n",
        "            else:\n",
        "                return [nums.index(a[left]), nums.index(a[right])]\n",
        "        elif a[left] + a[right] < x:\n",
        "            left = left + 1\n",
        "        else:\n",
        "            right = right - 1\n",
        "     return []\n",
        "nums = [3,2,3]\n",
        "target = 6\n",
        "\n",
        "obj = Solution()\n",
        "i,j = obj.twoSum(nums,target)\n",
        "print(i,j)"
      ],
      "metadata": {
        "colab": {
          "base_uri": "https://localhost:8080/"
        },
        "id": "pTnJVcmw0Lhv",
        "outputId": "d63a8770-25d0-43a1-da91-b941a8856588"
      },
      "execution_count": null,
      "outputs": [
        {
          "output_type": "stream",
          "name": "stdout",
          "text": [
            "0 2\n",
            "0 2\n",
            "1 2\n",
            "1 2\n",
            "3 3 al ar\n",
            "0 2\n"
          ]
        }
      ]
    },
    {
      "cell_type": "markdown",
      "source": [
        "# Question 2\n",
        "Given an integer x, return true if x is a\n",
        "palindrome\n",
        ", and false otherwise.\n",
        "\n",
        "\n",
        "\n",
        "Example 1:\n",
        "\n",
        "Input: x = 121\n",
        "Output: true\n",
        "Explanation: 121 reads as 121 from left to right and from right to left.\n",
        "Example 2:\n",
        "\n",
        "Input: x = -121\n",
        "Output: false\n",
        "Explanation: From left to right, it reads -121. From right to left, it becomes 121-. Therefore it is not a palindrome.\n",
        "Example 3:\n",
        "\n",
        "Input: x = 10\n",
        "Output: false\n",
        "Explanation: Reads 01 from right to left. Therefore it is not a palindrome.\n"
      ],
      "metadata": {
        "id": "YMoSzAU6_BhU"
      }
    },
    {
      "cell_type": "code",
      "source": [
        "# Time: 83 ms Memory 13.09 MB\n",
        "\n",
        "class Solution(object):\n",
        "    def isPalindrome(self, x):\n",
        "        \"\"\"\n",
        "        :type x: int\n",
        "        :rtype: bool\n",
        "        \"\"\"\n",
        "        if x != abs(x):\n",
        "            return False\n",
        "        list_1 = [int(i) for i in str(x)]\n",
        "        r = len(list_1)-1\n",
        "        l = 0\n",
        "        flag = 1\n",
        "        for i in range(l,r):\n",
        "            if l <= r:\n",
        "                if list_1[l] == list_1[r]:\n",
        "                    l = l + 1\n",
        "                    r = r - 1\n",
        "                else:\n",
        "                    flag = -1\n",
        "        if flag == 1:\n",
        "            return True"
      ],
      "metadata": {
        "id": "28Pm9DmE-40V"
      },
      "execution_count": null,
      "outputs": []
    },
    {
      "cell_type": "code",
      "source": [
        "# Time: 27 ms Memory 13.07 MB\n",
        "\n",
        "class Solution(object):\n",
        "  def isPalindrome(self, x):\n",
        "    # Base condition\n",
        "    if x < 0:\n",
        "        return False\n",
        "    # Store the number in a variable\n",
        "    number = x\n",
        "    # This will store the reverse of the number\n",
        "    reverse = 0\n",
        "    while number:\n",
        "        reverse = reverse * 10 + number % 10\n",
        "        number //= 10\n",
        "    return x == reverse"
      ],
      "metadata": {
        "id": "A79qZMrvD1Pq"
      },
      "execution_count": null,
      "outputs": []
    },
    {
      "cell_type": "code",
      "source": [
        "# Time: 30 ms Memory 13.14 MB\n",
        "class Solution(object):\n",
        "    def isPalindrome(self, x):\n",
        "        # Cast the number to a string\n",
        "        n = str(x)\n",
        "        # Reverse the string\n",
        "        m = n[::-1]\n",
        "        # Compare the reversed string to the original number to see if they match up\n",
        "        if n == m:\n",
        "            return True"
      ],
      "metadata": {
        "id": "mG67IonVEeKo"
      },
      "execution_count": null,
      "outputs": []
    },
    {
      "cell_type": "markdown",
      "source": [
        "## Question 3\n",
        "Write a function to find the longest common prefix string amongst an array of strings.\n",
        "\n",
        "If there is no common prefix, return an empty string \"\".\n",
        "\n",
        "Example 1:\n",
        "\n",
        "Input: strs = [\"flower\",\"flow\",\"flight\"]\n",
        "Output: \"fl\"\n",
        "Example 2:\n",
        "\n",
        "Input: strs = [\"dog\",\"racecar\",\"car\"]\n",
        "Output: \"\"\n",
        "Explanation: There is no common prefix among the input strings."
      ],
      "metadata": {
        "id": "dCyFgUWtCa1N"
      }
    },
    {
      "cell_type": "code",
      "source": [
        "# Time: 16 ms Memory 13.25 MB\n",
        "class Solution(object):\n",
        "    def longestCommonPrefix(self, strs):\n",
        "        \"\"\"\n",
        "        :type strs: List[str]\n",
        "        :rtype: str\n",
        "        \"\"\"\n",
        "        # variable for longest common prefix: lcp\n",
        "        lcp = \"\"\n",
        "\n",
        "        # if length of strs is None or 0 return empty string\n",
        "        if len(strs) == 0 or strs is None:\n",
        "          return \"\"\n",
        "\n",
        "        # Finding the minimum length of the string in strs\n",
        "        minlength = len(strs[0])\n",
        "        for i in range(len(strs)):\n",
        "            minlength = min(minlength, len(strs[i]))\n",
        "\n",
        "        for i in range(minlength):\n",
        "          current  = strs[0][i]\n",
        "          for j in range(len(strs)):\n",
        "            if strs[j][i] != current:\n",
        "                return lcp\n",
        "          lcp += current\n",
        "        return lcp\n",
        "\n",
        "\n",
        "\n",
        "obj = Solution()\n",
        "strs = [\"flower\",\"flow\",\"flight\"]\n",
        "obj.longestCommonPrefix(strs)"
      ],
      "metadata": {
        "colab": {
          "base_uri": "https://localhost:8080/",
          "height": 36
        },
        "id": "kZ6XrQoU6n9z",
        "outputId": "e9b19e83-4e0b-4fec-c0cc-6ba237c75084"
      },
      "execution_count": null,
      "outputs": [
        {
          "output_type": "execute_result",
          "data": {
            "text/plain": [
              "'fl'"
            ],
            "application/vnd.google.colaboratory.intrinsic+json": {
              "type": "string"
            }
          },
          "metadata": {},
          "execution_count": 10
        }
      ]
    },
    {
      "cell_type": "code",
      "source": [
        "# Time: 10 ms Memory 13.38 MB\n",
        "class Solution(object):\n",
        "    def longestCommonPrefix(self, strs):\n",
        "        \"\"\"\n",
        "        :type strs: List[str]\n",
        "        :rtype: str\n",
        "        \"\"\"\n",
        "        # variable for longest common prefix: lcp\n",
        "        lcp = \"\"\n",
        "\n",
        "        # if length of strs is None or 0 return empty string\n",
        "        if len(strs) == 0 or strs is None:\n",
        "          return \"\"\n",
        "\n",
        "        # Finding the minimum length of the string in strs\n",
        "        minlength = len(strs[0])\n",
        "        arr_len = len(strs)\n",
        "        for i in range(arr_len):\n",
        "            minlength = min(minlength, len(strs[i]))\n",
        "\n",
        "        for i in range(minlength):\n",
        "          current  = strs[0][i]\n",
        "          for j in range(arr_len):\n",
        "            if strs[j][i] != current:\n",
        "                return lcp\n",
        "          lcp += current\n",
        "        return lcp"
      ],
      "metadata": {
        "id": "_QG0Bl0BAwHZ"
      },
      "execution_count": null,
      "outputs": []
    },
    {
      "cell_type": "markdown",
      "source": [
        "## Question 4\n",
        "Roman numerals are represented by seven different symbols: I, V, X, L, C, D and M.\n",
        "\n",
        "Symbol       Value\n",
        "I             1\n",
        "V             5\n",
        "X             10\n",
        "L             50\n",
        "C             100\n",
        "D             500\n",
        "M             1000\n",
        "For example, 2 is written as II in Roman numeral, just two ones added together. 12 is written as XII, which is simply X + II. The number 27 is written as XXVII, which is XX + V + II.\n",
        "\n",
        "Roman numerals are usually written largest to smallest from left to right. However, the numeral for four is not IIII. Instead, the number four is written as IV. Because the one is before the five we subtract it making four. The same principle applies to the number nine, which is written as IX. There are six instances where subtraction is used:\n",
        "\n",
        "I can be placed before V (5) and X (10) to make 4 and 9.\n",
        "X can be placed before L (50) and C (100) to make 40 and 90.\n",
        "C can be placed before D (500) and M (1000) to make 400 and 900.\n",
        "Given a roman numeral, convert it to an integer.  \n",
        "\n",
        "\n",
        "Example 1:\n",
        "\n",
        "Input: s = \"III\"\n",
        "Output: 3\n",
        "Explanation: III = 3.\n",
        "Example 2:\n",
        "\n",
        "Input: s = \"LVIII\"\n",
        "Output: 58\n",
        "Explanation: L = 50, V= 5, III = 3.\n",
        "Example 3:\n",
        "\n",
        "Input: s = \"MCMXCIV\"\n",
        "Output: 1994\n",
        "Explanation: M = 1000, CM = 900, XC = 90 and IV = 4.\n",
        "\n",
        "\n",
        "Constraints:\n",
        "\n",
        "1 <= s.length <= 15\n",
        "s contains only the characters ('I', 'V', 'X', 'L', 'C', 'D', 'M').\n",
        "It is guaranteed that s is a valid roman numeral in the range [1, 3999]."
      ],
      "metadata": {
        "id": "n71cEzzJE0vp"
      }
    },
    {
      "cell_type": "code",
      "source": [],
      "metadata": {
        "id": "PZlCGOGAFV1k"
      },
      "execution_count": null,
      "outputs": []
    },
    {
      "cell_type": "code",
      "source": [
        "class ListNode(object):\n",
        "    def __init__(self, val=0, next=None):\n",
        "         self.val = val\n",
        "         self.next = next\n",
        "\n",
        "      #list1 = [1,2,4]\n",
        "      #list2 = [1,3,4]\n",
        "\n",
        "class CreateList(object):\n",
        "     def __init__(self, head=None):\n",
        "      self.head = head\n",
        "\n",
        "     def createList(self):\n",
        "      head = temp = ListNode(int(input(\"Input first number\")))\n",
        "      x = head.val\n",
        "      while x > 0:\n",
        "        x = int(input(\"Enter number\"))\n",
        "        temp.next = ListNode(x)\n",
        "        temp = temp.next\n",
        "      return head\n",
        "     def printList(self,head):\n",
        "      temp = head\n",
        "      while temp.next is not None:\n",
        "        print(temp.val)\n",
        "        temp = temp.next\n",
        "\n",
        "l = CreateList()\n",
        "head1 = l.createList()\n",
        "head2 = l.createList()\n",
        "l.printList(head1)\n",
        "print(\"Second List\")\n",
        "l.printList(head2)\n",
        "print(\"First List\")\n",
        "l.printList(head1)\n",
        "\n"
      ],
      "metadata": {
        "colab": {
          "base_uri": "https://localhost:8080/"
        },
        "id": "jY-UhLh8rkaJ",
        "outputId": "b9dd4234-8621-44da-f15d-d1e882d62213"
      },
      "execution_count": null,
      "outputs": [
        {
          "output_type": "stream",
          "name": "stdout",
          "text": [
            "Input first number1\n",
            "Enter number3\n",
            "Enter number5\n",
            "Enter number-1\n",
            "Input first number2\n",
            "Enter number4\n",
            "Enter number6\n",
            "Enter number-1\n",
            "1\n",
            "3\n",
            "5\n",
            "Second List\n",
            "2\n",
            "4\n",
            "6\n",
            "First List\n",
            "1\n",
            "3\n",
            "5\n"
          ]
        }
      ]
    },
    {
      "cell_type": "code",
      "source": [
        "class Solution(object):\n",
        "  def mergeList(self,head1,head2):\n",
        "    head3 = None\n",
        "\n",
        "    if head1 is None:\n",
        "      return head2\n",
        "    if head2 is None:\n",
        "      return head1\n",
        "\n",
        "    if head1.val < head2.val:\n",
        "        temp = head = ListNode(head1.val)\n",
        "        head1 = head1.next\n",
        "    else:\n",
        "        temp = head = ListNode(head2.val)\n",
        "        head2 = head2.next\n",
        "\n",
        "    while head1 is not None and head2 is not None:\n",
        "        temp.next = ListNode()\n",
        "        if head1.val <= head2.val:\n",
        "          temp.val = head1.val\n",
        "          print(temp.val)\n",
        "          head1 = head1.next\n",
        "\n",
        "        else:\n",
        "          temp.val = head2.val\n",
        "          print(temp.val)\n",
        "          head2 = head2.next\n",
        "\n",
        "        if head1.next is None:\n",
        "          while head2.next is not None:\n",
        "            head2 = head2.next\n",
        "            temp.next = ListNode(head2.val)\n",
        "            print(temp.val)\n",
        "\n",
        "        else:\n",
        "          while head1.next is not None:\n",
        "            head1 = head1.next\n",
        "            temp.next = ListNode(head1.val)\n",
        "            print(temp.val)\n",
        "\n",
        "        while head.next is not None:\n",
        "          print(head.val)\n",
        "          head = head.next\n",
        "    return head3\n",
        "\n",
        "\n"
      ],
      "metadata": {
        "id": "_wF7SekFkBoy"
      },
      "execution_count": null,
      "outputs": []
    },
    {
      "cell_type": "code",
      "source": [
        "obj = Solution()\n",
        "head3 = obj.mergeList(head1, head2)\n",
        "#h = CreateList(head3)\n",
        "#h.printList(head3)"
      ],
      "metadata": {
        "id": "wv_74zHHk-N7",
        "colab": {
          "base_uri": "https://localhost:8080/",
          "height": 448
        },
        "outputId": "c080df46-0d6a-49bd-a310-9b877c8279dd"
      },
      "execution_count": null,
      "outputs": [
        {
          "output_type": "stream",
          "name": "stdout",
          "text": [
            "2\n",
            "2\n",
            "2\n",
            "2\n",
            "-1\n"
          ]
        },
        {
          "output_type": "error",
          "ename": "AttributeError",
          "evalue": "ignored",
          "traceback": [
            "\u001b[0;31m---------------------------------------------------------------------------\u001b[0m",
            "\u001b[0;31mAttributeError\u001b[0m                            Traceback (most recent call last)",
            "\u001b[0;32m<ipython-input-9-ffadad9e132f>\u001b[0m in \u001b[0;36m<cell line: 2>\u001b[0;34m()\u001b[0m\n\u001b[1;32m      1\u001b[0m \u001b[0mobj\u001b[0m \u001b[0;34m=\u001b[0m \u001b[0mSolution\u001b[0m\u001b[0;34m(\u001b[0m\u001b[0;34m)\u001b[0m\u001b[0;34m\u001b[0m\u001b[0;34m\u001b[0m\u001b[0m\n\u001b[0;32m----> 2\u001b[0;31m \u001b[0mhead3\u001b[0m \u001b[0;34m=\u001b[0m \u001b[0mobj\u001b[0m\u001b[0;34m.\u001b[0m\u001b[0mmergeList\u001b[0m\u001b[0;34m(\u001b[0m\u001b[0mhead1\u001b[0m\u001b[0;34m,\u001b[0m \u001b[0mhead2\u001b[0m\u001b[0;34m)\u001b[0m\u001b[0;34m\u001b[0m\u001b[0;34m\u001b[0m\u001b[0m\n\u001b[0m\u001b[1;32m      3\u001b[0m \u001b[0;31m#h = CreateList(head3)\u001b[0m\u001b[0;34m\u001b[0m\u001b[0;34m\u001b[0m\u001b[0m\n\u001b[1;32m      4\u001b[0m \u001b[0;31m#h.printList(head3)\u001b[0m\u001b[0;34m\u001b[0m\u001b[0;34m\u001b[0m\u001b[0m\n",
            "\u001b[0;32m<ipython-input-8-4c9de46e3eef>\u001b[0m in \u001b[0;36mmergeList\u001b[0;34m(self, head1, head2)\u001b[0m\n\u001b[1;32m     27\u001b[0m           \u001b[0mhead2\u001b[0m \u001b[0;34m=\u001b[0m \u001b[0mhead2\u001b[0m\u001b[0;34m.\u001b[0m\u001b[0mnext\u001b[0m\u001b[0;34m\u001b[0m\u001b[0;34m\u001b[0m\u001b[0m\n\u001b[1;32m     28\u001b[0m \u001b[0;34m\u001b[0m\u001b[0m\n\u001b[0;32m---> 29\u001b[0;31m         \u001b[0;32mif\u001b[0m \u001b[0mhead1\u001b[0m\u001b[0;34m.\u001b[0m\u001b[0mnext\u001b[0m \u001b[0;32mis\u001b[0m \u001b[0;32mNone\u001b[0m\u001b[0;34m:\u001b[0m\u001b[0;34m\u001b[0m\u001b[0;34m\u001b[0m\u001b[0m\n\u001b[0m\u001b[1;32m     30\u001b[0m           \u001b[0;32mwhile\u001b[0m \u001b[0mhead2\u001b[0m\u001b[0;34m.\u001b[0m\u001b[0mnext\u001b[0m \u001b[0;32mis\u001b[0m \u001b[0;32mnot\u001b[0m \u001b[0;32mNone\u001b[0m\u001b[0;34m:\u001b[0m\u001b[0;34m\u001b[0m\u001b[0;34m\u001b[0m\u001b[0m\n\u001b[1;32m     31\u001b[0m             \u001b[0mhead2\u001b[0m \u001b[0;34m=\u001b[0m \u001b[0mhead2\u001b[0m\u001b[0;34m.\u001b[0m\u001b[0mnext\u001b[0m\u001b[0;34m\u001b[0m\u001b[0;34m\u001b[0m\u001b[0m\n",
            "\u001b[0;31mAttributeError\u001b[0m: 'NoneType' object has no attribute 'next'"
          ]
        }
      ]
    }
  ]
}